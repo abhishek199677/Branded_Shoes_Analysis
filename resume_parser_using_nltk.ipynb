{
  "nbformat": 4,
  "nbformat_minor": 0,
  "metadata": {
    "colab": {
      "provenance": [],
      "authorship_tag": "ABX9TyP+V4nIH3ghln6ePBIaxliy",
      "include_colab_link": true
    },
    "kernelspec": {
      "name": "python3",
      "display_name": "Python 3"
    },
    "language_info": {
      "name": "python"
    }
  },
  "cells": [
    {
      "cell_type": "markdown",
      "metadata": {
        "id": "view-in-github",
        "colab_type": "text"
      },
      "source": [
        "<a href=\"https://colab.research.google.com/github/abhishek199677/Branded_Shoes_Analysis/blob/main/resume_parser_using_nltk.ipynb\" target=\"_parent\"><img src=\"https://colab.research.google.com/assets/colab-badge.svg\" alt=\"Open In Colab\"/></a>"
      ]
    },
    {
      "cell_type": "code",
      "execution_count": 1,
      "metadata": {
        "colab": {
          "base_uri": "https://localhost:8080/"
        },
        "id": "YYI1HIi9LEBG",
        "outputId": "8e5e5ab8-1cca-4a90-b58a-d803d72b3e13"
      },
      "outputs": [
        {
          "output_type": "stream",
          "name": "stderr",
          "text": [
            "[nltk_data] Downloading package omw-1.4 to /root/nltk_data...\n",
            "[nltk_data] Downloading package punkt to /root/nltk_data...\n",
            "[nltk_data]   Unzipping tokenizers/punkt.zip.\n",
            "[nltk_data] Downloading package wordnet to /root/nltk_data...\n",
            "[nltk_data] Downloading package punkt_tab to /root/nltk_data...\n",
            "[nltk_data]   Unzipping tokenizers/punkt_tab.zip.\n"
          ]
        },
        {
          "output_type": "execute_result",
          "data": {
            "text/plain": [
              "True"
            ]
          },
          "metadata": {},
          "execution_count": 1
        }
      ],
      "source": [
        "import nltk\n",
        "nltk.download('omw-1.4')\n",
        "from nltk.corpus import wordnet\n",
        "nltk.download('punkt')\n",
        "nltk.download('wordnet')\n",
        "nltk.download('punkt_tab')"
      ]
    },
    {
      "cell_type": "code",
      "source": [
        "# Define job requirements and candidate profiles\n",
        "job_requirements = \"We are looking for a candidate with strong programming skills in python, experience with machine learning an deep learning\"\n",
        "candidate_profiles = [\n",
        "    {\n",
        "        \"name\": \"Abhishek\",\n",
        "        \"skills\": [\"Python\", \"Java\", \"C++\"],\n",
        "        \"experience\": [\"Machine learning\", \"Data analysis\"],\n",
        "        \"communication\": \"Good\"\n",
        "    },\n",
        "    {\n",
        "        \"name\": \"priya\",\n",
        "        \"skills\": [\"Python\", \"R\", \"JavaScript\"],\n",
        "        \"experience\": [\"Natural language processing\", \"Data visualization\"],\n",
        "        \"communication\": \"excellent\"\n",
        "    },\n",
        "    {\n",
        "        \"name\": \"mohan\",\n",
        "        \"skills\": [\"C++\", \"Java\", \"JavaScript\"],\n",
        "        \"experience\": [\"Database management\", \"Web development\"],\n",
        "        \"communication\": \"Average\"\n",
        "    }\n",
        "]"
      ],
      "metadata": {
        "id": "6mp6n1GqLOZG"
      },
      "execution_count": 2,
      "outputs": []
    },
    {
      "cell_type": "code",
      "source": [
        "# Funtion to Calculate Similarity Score\n",
        "def calculate_similarity_score (words1, words2):\n",
        "   synsets1 = set([synset for word in words1 for synset in wordnet.synsets(word)])\n",
        "   synsets2 = set([synset for word in words2 for synset in wordnet.synsets(word)])\n",
        "   similarity_score = len(synsets1.intersection (synsets2))/(len (synsets1) + len(synsets2))\n",
        "   return similarity_score"
      ],
      "metadata": {
        "id": "3Z2w7Op6LSU4"
      },
      "execution_count": 3,
      "outputs": []
    },
    {
      "cell_type": "code",
      "source": [
        "# Function to find the best candidate based on job requirements\n",
        "def find_best_candidate (job_requirements, candidate_profiles):\n",
        "   best_candidate = None\n",
        "   best_score = 0"
      ],
      "metadata": {
        "id": "r-M-KHlAL2Sj"
      },
      "execution_count": 4,
      "outputs": []
    },
    {
      "cell_type": "code",
      "source": [
        "# Function to find the best candidate based on job requirements\n",
        "def find_best_candidate (job_requirements, candidate_profiles):\n",
        "   best_candidate = None\n",
        "   best_score = 0\n",
        "   # Tokenize job requirements\n",
        "   job_tokens = nltk.word_tokenize(job_requirements)\n",
        "   for candidate in candidate_profiles:\n",
        "      # Combine candidate's skills and experience\n",
        "      candidate_words = candidate[\"skills\"] + candidate[\"experience\"]\n",
        "      # Calculate similarity score\n",
        "      score = calculate_similarity_score(job_tokens, candidate_words)\n",
        "      #Update best candidate if the current score is higher\n",
        "      if score > best_score:\n",
        "          best_candidate = candidate[\"name\"]\n",
        "          best_score = score\n",
        "   return best_candidate"
      ],
      "metadata": {
        "id": "q7gUCOVtL3qp"
      },
      "execution_count": 5,
      "outputs": []
    },
    {
      "cell_type": "code",
      "source": [
        "#Find the best candidate\n",
        "best_candidate= find_best_candidate(job_requirements, candidate_profiles)\n",
        "print(\"The best candidate for this job is:\", best_candidate)"
      ],
      "metadata": {
        "colab": {
          "base_uri": "https://localhost:8080/"
        },
        "id": "-h3c6lRRL5YM",
        "outputId": "fdb5b93b-6944-411b-ee18-c211d87fccab"
      },
      "execution_count": 6,
      "outputs": [
        {
          "output_type": "stream",
          "name": "stdout",
          "text": [
            "The best candidate for this job is: Abhishek\n"
          ]
        }
      ]
    },
    {
      "cell_type": "code",
      "source": [],
      "metadata": {
        "id": "WsnFMaM_L66C"
      },
      "execution_count": 6,
      "outputs": []
    }
  ]
}